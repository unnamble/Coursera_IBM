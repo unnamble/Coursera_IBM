{
 "cells": [
  {
   "cell_type": "markdown",
   "metadata": {},
   "source": [
    "# Introduction\n",
    "\n",
    "\n",
    "Like many other capitals around the world, Copenhagen are home to a lot of small business owners consisting of many different kinds business types. If one were to open  let’s say a new burger joint in a specific borough, it would be nice to know how many burger joints which are present in that borough, before you choose a location. Likewise, it would be nice to know how many people resides in the area of question. My final project will answer these  two questions."
   ]
  },
  {
   "cell_type": "markdown",
   "metadata": {},
   "source": [
    "# Data section\n",
    "\n",
    "\n",
    "The data which will be used in the script are: \n",
    "1. Venue data \n",
    "For the data concerning which venues are present in a borough, the data will be obtained thru the Foursquare API, it will be up to the user to define kind of venue, and the borough to be searched.\n",
    "2. Geolocations data for searching in foursquare:\n",
    "For the geolocations of the boroughs I used google maps and took the coordinates in the center of the boroughs, thereafter I plotted it manually in the script.\n",
    "3. Data for Copenhagen concerning number of residents in a specific area and borough limits and administrative units.\n",
    "For the specific data concerning Copenhagen, I make use the municipality open data portal https://data.kk.dk/dataset, which has a lot of information concerning Copenhagen. I will use a geojson with borough limits to show were the clusters are positioned within a specific borough.\n",
    "A second part of the script will show the results on a choropleth map with population in specific areas. For that I will use a csv. file with administrative zones** + number of occupants in those zones and put that together with a geojson map  that also have the administrative zones.\n",
    "\n",
    "** The statistics for population stats are linked to an old administrative unit called “roder”, it’s neither a neighborhood nor a borough, but the smallest administrative unit used for different statistics. \n"
   ]
  },
  {
   "cell_type": "code",
   "execution_count": null,
   "metadata": {},
   "outputs": [],
   "source": []
  }
 ],
 "metadata": {
  "kernelspec": {
   "display_name": "Python 3",
   "language": "python",
   "name": "python3"
  },
  "language_info": {
   "codemirror_mode": {
    "name": "ipython",
    "version": 3
   },
   "file_extension": ".py",
   "mimetype": "text/x-python",
   "name": "python",
   "nbconvert_exporter": "python",
   "pygments_lexer": "ipython3",
   "version": "3.7.3"
  }
 },
 "nbformat": 4,
 "nbformat_minor": 2
}
